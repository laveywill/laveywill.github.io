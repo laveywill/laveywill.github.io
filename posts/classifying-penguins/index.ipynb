{
 "cells": [
  {
   "cell_type": "raw",
   "metadata": {
    "vscode": {
     "languageId": "raw"
    }
   },
   "source": [
    "---\n",
    "title: Classifying Palmer's Penguins\n",
    "author: Will Lavey\n",
    "date: '2025-02-28'\n",
    "image: \"penguins_cover_photo.jpg\"\n",
    "description: \"The first blog post for CS451, classifying Palmer's Penguins\"\n",
    "format: html\n",
    "---"
   ]
  }
 ],
 "metadata": {
  "kernelspec": {
   "display_name": "ml-0451",
   "language": "python",
   "name": "python3"
  },
  "language_info": {
   "name": "python",
   "version": "3.9.21"
  }
 },
 "nbformat": 4,
 "nbformat_minor": 2
}
